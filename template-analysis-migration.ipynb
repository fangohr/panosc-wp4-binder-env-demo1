{
 "cells": [
  {
   "cell_type": "code",
   "execution_count": 1,
   "metadata": {},
   "outputs": [],
   "source": [
    "%matplotlib inline\n",
    "import matplotlib.pyplot as plt"
   ]
  },
  {
   "cell_type": "markdown",
   "metadata": {},
   "source": [
    "# PaNOSC EOSC Data analysis (of EU population migration in 2017)"
   ]
  },
  {
   "cell_type": "markdown",
   "metadata": {},
   "source": [
    "Instructions:\n",
    "\n",
    "- This notebook contains a basic analysis of the data set. You can browse the outputs below.\n",
    "\n",
    "- You can also re-execute the notebook (either use the menu entries, or press SHIFT+RETURN to execute one cell at the time).\n",
    "\n",
    "- You can also modify all lines and re-execute to extend the given study for your research needs."
   ]
  },
  {
   "cell_type": "markdown",
   "metadata": {},
   "source": [
    "## Step 1: fetch the data [to be resolved - WP3 / WP4 / WP6 / EGI]"
   ]
  },
  {
   "cell_type": "code",
   "execution_count": 2,
   "metadata": {},
   "outputs": [
    {
     "name": "stdout",
     "output_type": "stream",
     "text": [
      "--2019-06-19 17:26:14--  https://fangohr.github.io/data/eurostat/population2017/eu-pop-2017.csv\n",
      "Resolving fangohr.github.io... 185.199.110.153, 185.199.108.153, 185.199.109.153, ...\n",
      "Connecting to fangohr.github.io|185.199.110.153|:443... connected.\n",
      "HTTP request sent, awaiting response... 200 OK\n",
      "Length: 1087 (1.1K) [text/csv]\n",
      "Saving to: ‘eu-pop-2017.csv.4’\n",
      "\n",
      "eu-pop-2017.csv.4   100%[===================>]   1.06K  --.-KB/s    in 0s      \n",
      "\n",
      "2019-06-19 17:26:15 (94.2 MB/s) - ‘eu-pop-2017.csv.4’ saved [1087/1087]\n",
      "\n"
     ]
    }
   ],
   "source": [
    "!wget https://fangohr.github.io/data/eurostat/population2017/eu-pop-2017.csv"
   ]
  },
  {
   "cell_type": "markdown",
   "metadata": {},
   "source": [
    "## Step 2: offer some analysis. Here: Deriving estimate of migration in 2017, and plot"
   ]
  },
  {
   "cell_type": "markdown",
   "metadata": {},
   "source": [
    "### Open the data"
   ]
  },
  {
   "cell_type": "code",
   "execution_count": 3,
   "metadata": {},
   "outputs": [],
   "source": [
    "\n",
    "import pandas as pd\n",
    "df = pd.read_csv(\"eu-pop-2017.csv\", index_col=['geo'])"
   ]
  },
  {
   "cell_type": "code",
   "execution_count": 4,
   "metadata": {
    "collapsed": true
   },
   "outputs": [],
   "source": [
    "%matplotlib inline\n",
    "import pandas as pd\n",
    "import matplotlib.pyplot as plt"
   ]
  },
  {
   "cell_type": "code",
   "execution_count": 6,
   "metadata": {},
   "outputs": [
    {
     "data": {
      "text/html": [
       "<div>\n",
       "<style scoped>\n",
       "    .dataframe tbody tr th:only-of-type {\n",
       "        vertical-align: middle;\n",
       "    }\n",
       "\n",
       "    .dataframe tbody tr th {\n",
       "        vertical-align: top;\n",
       "    }\n",
       "\n",
       "    .dataframe thead th {\n",
       "        text-align: right;\n",
       "    }\n",
       "</style>\n",
       "<table border=\"1\" class=\"dataframe\">\n",
       "  <thead>\n",
       "    <tr style=\"text-align: right;\">\n",
       "      <th></th>\n",
       "      <th>pop17</th>\n",
       "      <th>pop18</th>\n",
       "      <th>births</th>\n",
       "      <th>deaths</th>\n",
       "    </tr>\n",
       "    <tr>\n",
       "      <th>geo</th>\n",
       "      <th></th>\n",
       "      <th></th>\n",
       "      <th></th>\n",
       "      <th></th>\n",
       "    </tr>\n",
       "  </thead>\n",
       "  <tbody>\n",
       "    <tr>\n",
       "      <th>Belgium</th>\n",
       "      <td>11351727</td>\n",
       "      <td>11413058</td>\n",
       "      <td>119690</td>\n",
       "      <td>109666</td>\n",
       "    </tr>\n",
       "    <tr>\n",
       "      <th>Bulgaria</th>\n",
       "      <td>7101859</td>\n",
       "      <td>7050034</td>\n",
       "      <td>63955</td>\n",
       "      <td>109791</td>\n",
       "    </tr>\n",
       "    <tr>\n",
       "      <th>Czechia</th>\n",
       "      <td>10578820</td>\n",
       "      <td>10610055</td>\n",
       "      <td>114405</td>\n",
       "      <td>111443</td>\n",
       "    </tr>\n",
       "    <tr>\n",
       "      <th>Denmark</th>\n",
       "      <td>5748769</td>\n",
       "      <td>5781190</td>\n",
       "      <td>61397</td>\n",
       "      <td>53261</td>\n",
       "    </tr>\n",
       "    <tr>\n",
       "      <th>Germany</th>\n",
       "      <td>82521653</td>\n",
       "      <td>82850000</td>\n",
       "      <td>785000</td>\n",
       "      <td>933000</td>\n",
       "    </tr>\n",
       "  </tbody>\n",
       "</table>\n",
       "</div>"
      ],
      "text/plain": [
       "             pop17     pop18  births  deaths\n",
       "geo                                         \n",
       "Belgium   11351727  11413058  119690  109666\n",
       "Bulgaria   7101859   7050034   63955  109791\n",
       "Czechia   10578820  10610055  114405  111443\n",
       "Denmark    5748769   5781190   61397   53261\n",
       "Germany   82521653  82850000  785000  933000"
      ]
     },
     "execution_count": 6,
     "metadata": {},
     "output_type": "execute_result"
    }
   ],
   "source": [
    "df.head()"
   ]
  },
  {
   "cell_type": "markdown",
   "metadata": {},
   "source": [
    "## Population change per country in 2017 "
   ]
  },
  {
   "cell_type": "code",
   "execution_count": 17,
   "metadata": {},
   "outputs": [
    {
     "data": {
      "text/html": [
       "<div>\n",
       "<style scoped>\n",
       "    .dataframe tbody tr th:only-of-type {\n",
       "        vertical-align: middle;\n",
       "    }\n",
       "\n",
       "    .dataframe tbody tr th {\n",
       "        vertical-align: top;\n",
       "    }\n",
       "\n",
       "    .dataframe thead th {\n",
       "        text-align: right;\n",
       "    }\n",
       "</style>\n",
       "<table border=\"1\" class=\"dataframe\">\n",
       "  <thead>\n",
       "    <tr style=\"text-align: right;\">\n",
       "      <th></th>\n",
       "      <th>pop17</th>\n",
       "      <th>pop18</th>\n",
       "      <th>births</th>\n",
       "      <th>deaths</th>\n",
       "      <th>natural-change</th>\n",
       "      <th>change</th>\n",
       "      <th>migration</th>\n",
       "    </tr>\n",
       "    <tr>\n",
       "      <th>geo</th>\n",
       "      <th></th>\n",
       "      <th></th>\n",
       "      <th></th>\n",
       "      <th></th>\n",
       "      <th></th>\n",
       "      <th></th>\n",
       "      <th></th>\n",
       "    </tr>\n",
       "  </thead>\n",
       "  <tbody>\n",
       "    <tr>\n",
       "      <th>Belgium</th>\n",
       "      <td>11351727</td>\n",
       "      <td>11413058</td>\n",
       "      <td>119690</td>\n",
       "      <td>109666</td>\n",
       "      <td>10024</td>\n",
       "      <td>61331</td>\n",
       "      <td>51307</td>\n",
       "    </tr>\n",
       "    <tr>\n",
       "      <th>Bulgaria</th>\n",
       "      <td>7101859</td>\n",
       "      <td>7050034</td>\n",
       "      <td>63955</td>\n",
       "      <td>109791</td>\n",
       "      <td>-45836</td>\n",
       "      <td>-51825</td>\n",
       "      <td>-5989</td>\n",
       "    </tr>\n",
       "    <tr>\n",
       "      <th>Czechia</th>\n",
       "      <td>10578820</td>\n",
       "      <td>10610055</td>\n",
       "      <td>114405</td>\n",
       "      <td>111443</td>\n",
       "      <td>2962</td>\n",
       "      <td>31235</td>\n",
       "      <td>28273</td>\n",
       "    </tr>\n",
       "    <tr>\n",
       "      <th>Denmark</th>\n",
       "      <td>5748769</td>\n",
       "      <td>5781190</td>\n",
       "      <td>61397</td>\n",
       "      <td>53261</td>\n",
       "      <td>8136</td>\n",
       "      <td>32421</td>\n",
       "      <td>24285</td>\n",
       "    </tr>\n",
       "    <tr>\n",
       "      <th>Germany</th>\n",
       "      <td>82521653</td>\n",
       "      <td>82850000</td>\n",
       "      <td>785000</td>\n",
       "      <td>933000</td>\n",
       "      <td>-148000</td>\n",
       "      <td>328347</td>\n",
       "      <td>476347</td>\n",
       "    </tr>\n",
       "  </tbody>\n",
       "</table>\n",
       "</div>"
      ],
      "text/plain": [
       "             pop17     pop18  births  deaths  natural-change  change  \\\n",
       "geo                                                                    \n",
       "Belgium   11351727  11413058  119690  109666           10024   61331   \n",
       "Bulgaria   7101859   7050034   63955  109791          -45836  -51825   \n",
       "Czechia   10578820  10610055  114405  111443            2962   31235   \n",
       "Denmark    5748769   5781190   61397   53261            8136   32421   \n",
       "Germany   82521653  82850000  785000  933000         -148000  328347   \n",
       "\n",
       "          migration  \n",
       "geo                  \n",
       "Belgium       51307  \n",
       "Bulgaria      -5989  \n",
       "Czechia       28273  \n",
       "Denmark       24285  \n",
       "Germany      476347  "
      ]
     },
     "execution_count": 17,
     "metadata": {},
     "output_type": "execute_result"
    }
   ],
   "source": [
    "df['natural-change'] = df['births'] - df['deaths']\n",
    "\n",
    "df['change'] = df['pop18'] - df['pop17']\n",
    "\n",
    "df.head()"
   ]
  },
  {
   "cell_type": "code",
   "execution_count": 15,
   "metadata": {},
   "outputs": [
    {
     "data": {
      "image/png": "[encoded data removed]",
      "text/plain": [
       "<Figure size 432x288 with 1 Axes>"
      ]
     },
     "metadata": {
      "needs_background": "light"
     },
     "output_type": "display_data"
    }
   ],
   "source": [
    "ax = df['change'].sort_values().plot(kind='bar')\n",
    "ax.set_title(\"Total change in population during 2017\");"
   ]
  },
  {
   "cell_type": "markdown",
   "metadata": {},
   "source": [
    "With that information, we can estimate migration. (It is important to note that this estimated number will also absorb all inaccuracies or changes of the data gathering method, in the original data described as \"statistical adjustment\".)"
   ]
  },
  {
   "cell_type": "code",
   "execution_count": 106,
   "metadata": {},
   "outputs": [],
   "source": [
    "df['migration'] = df['change'] - df['natural-change']"
   ]
  },
  {
   "cell_type": "code",
   "execution_count": 18,
   "metadata": {},
   "outputs": [
    {
     "data": {
      "text/html": [
       "<div>\n",
       "<style scoped>\n",
       "    .dataframe tbody tr th:only-of-type {\n",
       "        vertical-align: middle;\n",
       "    }\n",
       "\n",
       "    .dataframe tbody tr th {\n",
       "        vertical-align: top;\n",
       "    }\n",
       "\n",
       "    .dataframe thead th {\n",
       "        text-align: right;\n",
       "    }\n",
       "</style>\n",
       "<table border=\"1\" class=\"dataframe\">\n",
       "  <thead>\n",
       "    <tr style=\"text-align: right;\">\n",
       "      <th></th>\n",
       "      <th>pop17</th>\n",
       "      <th>pop18</th>\n",
       "      <th>births</th>\n",
       "      <th>deaths</th>\n",
       "      <th>natural-change</th>\n",
       "      <th>change</th>\n",
       "      <th>migration</th>\n",
       "    </tr>\n",
       "    <tr>\n",
       "      <th>geo</th>\n",
       "      <th></th>\n",
       "      <th></th>\n",
       "      <th></th>\n",
       "      <th></th>\n",
       "      <th></th>\n",
       "      <th></th>\n",
       "      <th></th>\n",
       "    </tr>\n",
       "  </thead>\n",
       "  <tbody>\n",
       "    <tr>\n",
       "      <th>Belgium</th>\n",
       "      <td>11351727</td>\n",
       "      <td>11413058</td>\n",
       "      <td>119690</td>\n",
       "      <td>109666</td>\n",
       "      <td>10024</td>\n",
       "      <td>61331</td>\n",
       "      <td>51307</td>\n",
       "    </tr>\n",
       "    <tr>\n",
       "      <th>Bulgaria</th>\n",
       "      <td>7101859</td>\n",
       "      <td>7050034</td>\n",
       "      <td>63955</td>\n",
       "      <td>109791</td>\n",
       "      <td>-45836</td>\n",
       "      <td>-51825</td>\n",
       "      <td>-5989</td>\n",
       "    </tr>\n",
       "    <tr>\n",
       "      <th>Czechia</th>\n",
       "      <td>10578820</td>\n",
       "      <td>10610055</td>\n",
       "      <td>114405</td>\n",
       "      <td>111443</td>\n",
       "      <td>2962</td>\n",
       "      <td>31235</td>\n",
       "      <td>28273</td>\n",
       "    </tr>\n",
       "    <tr>\n",
       "      <th>Denmark</th>\n",
       "      <td>5748769</td>\n",
       "      <td>5781190</td>\n",
       "      <td>61397</td>\n",
       "      <td>53261</td>\n",
       "      <td>8136</td>\n",
       "      <td>32421</td>\n",
       "      <td>24285</td>\n",
       "    </tr>\n",
       "    <tr>\n",
       "      <th>Germany</th>\n",
       "      <td>82521653</td>\n",
       "      <td>82850000</td>\n",
       "      <td>785000</td>\n",
       "      <td>933000</td>\n",
       "      <td>-148000</td>\n",
       "      <td>328347</td>\n",
       "      <td>476347</td>\n",
       "    </tr>\n",
       "  </tbody>\n",
       "</table>\n",
       "</div>"
      ],
      "text/plain": [
       "             pop17     pop18  births  deaths  natural-change  change  \\\n",
       "geo                                                                    \n",
       "Belgium   11351727  11413058  119690  109666           10024   61331   \n",
       "Bulgaria   7101859   7050034   63955  109791          -45836  -51825   \n",
       "Czechia   10578820  10610055  114405  111443            2962   31235   \n",
       "Denmark    5748769   5781190   61397   53261            8136   32421   \n",
       "Germany   82521653  82850000  785000  933000         -148000  328347   \n",
       "\n",
       "          migration  \n",
       "geo                  \n",
       "Belgium       51307  \n",
       "Bulgaria      -5989  \n",
       "Czechia       28273  \n",
       "Denmark       24285  \n",
       "Germany      476347  "
      ]
     },
     "execution_count": 18,
     "metadata": {},
     "output_type": "execute_result"
    }
   ],
   "source": [
    "df.head()"
   ]
  },
  {
   "cell_type": "markdown",
   "metadata": {},
   "source": [
    "Let's plot the total change of the population per country in the top subfigure, and the contribution from natural changes and migration in the lower subfigure:"
   ]
  },
  {
   "cell_type": "markdown",
   "metadata": {},
   "source": [
    "## Origins of population changes in 2017"
   ]
  },
  {
   "cell_type": "code",
   "execution_count": 22,
   "metadata": {},
   "outputs": [
    {
     "data": {
      "image/png": "[encoded data removed]",
      "text/plain": [
       "<Figure size 864x432 with 2 Axes>"
      ]
     },
     "metadata": {
      "needs_background": "light"
     },
     "output_type": "display_data"
    }
   ],
   "source": [
    "tmp = df.sort_values(by='change')\n",
    "fig, axes = plt.subplots(2, 1, figsize=(12, 6))\n",
    "\n",
    "tmp.plot(kind='bar', y=['change'], sharex=True, ax=axes[0])\n",
    "axes[0].set_title(\"Population changes in 2017\")\n",
    "axes[0].legend(['total change of population (migration + '\\\n",
    "                'natural change due to deaths and births'])\n",
    "tmp.plot(kind='bar', y=['migration', 'natural-change'], \n",
    "         sharex=True, ax=axes[1], color=['green', 'orange'])\n",
    "axes[1].legend(['Migration', \"natural change due to deaths and births\"])\n",
    "axes[1].set_xlabel(None);"
   ]
  },
  {
   "cell_type": "markdown",
   "metadata": {},
   "source": [
    "Lower plot: orange bars show changes due to death and birth rates in each country, green bars indicate migration."
   ]
  }
 ],
 "metadata": {
  "kernelspec": {
   "display_name": "Python 3",
   "language": "python",
   "name": "python3"
  },
  "language_info": {
   "codemirror_mode": {
    "name": "ipython",
    "version": 3
   },
   "file_extension": ".py",
   "mimetype": "text/x-python",
   "name": "python",
   "nbconvert_exporter": "python",
   "pygments_lexer": "ipython3",
   "version": "3.7.1"
  }
 },
 "nbformat": 4,
 "nbformat_minor": 2
}

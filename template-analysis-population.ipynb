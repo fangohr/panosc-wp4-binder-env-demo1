{
 "cells": [
  {
   "cell_type": "code",
   "execution_count": 30,
   "metadata": {},
   "outputs": [],
   "source": [
    "%matplotlib inline\n",
    "import matplotlib.pyplot as plt"
   ]
  },
  {
   "cell_type": "markdown",
   "metadata": {},
   "source": [
    "# PaNOSC EOSC Data analysis (of EU population data)"
   ]
  },
  {
   "cell_type": "markdown",
   "metadata": {},
   "source": [
    "Instructions:\n",
    "\n",
    "- This notebook contains a basic analysis of the data set. You can browse the outputs below.\n",
    "\n",
    "- You can also re-execute the notebook (either use the menu entries, or press SHIFT+RETURN to execute one cell at the time).\n",
    "\n",
    "- You can also modify all lines and re-execute to extend the given study for your research needs."
   ]
  },
  {
   "cell_type": "markdown",
   "metadata": {},
   "source": [
    "## Step 1: fetch the data [to be resolved - WP3 / WP4 / WP6 / EGI]"
   ]
  },
  {
   "cell_type": "code",
   "execution_count": 26,
   "metadata": {},
   "outputs": [
    {
     "name": "stdout",
     "output_type": "stream",
     "text": [
      "--2019-06-19 17:02:57--  https://fangohr.github.io/data/eurostat/population2017/eu-pop-2017.csv\n",
      "Resolving fangohr.github.io... 185.199.108.153, 185.199.109.153, 185.199.111.153, ...\n",
      "Connecting to fangohr.github.io|185.199.108.153|:443... connected.\n",
      "HTTP request sent, awaiting response... 200 OK\n",
      "Length: 1087 (1.1K) [text/csv]\n",
      "Saving to: ‘eu-pop-2017.csv.3’\n",
      "\n",
      "eu-pop-2017.csv.3   100%[===================>]   1.06K  --.-KB/s    in 0s      \n",
      "\n",
      "2019-06-19 17:02:57 (57.6 MB/s) - ‘eu-pop-2017.csv.3’ saved [1087/1087]\n",
      "\n"
     ]
    }
   ],
   "source": [
    "!wget https://fangohr.github.io/data/eurostat/population2017/eu-pop-2017.csv"
   ]
  },
  {
   "cell_type": "markdown",
   "metadata": {},
   "source": [
    "## Step 2: offer some analysis. Here: summary of data, and plot"
   ]
  },
  {
   "cell_type": "markdown",
   "metadata": {},
   "source": [
    "### Open the data"
   ]
  },
  {
   "cell_type": "code",
   "execution_count": 27,
   "metadata": {},
   "outputs": [],
   "source": [
    "\n",
    "import pandas as pd\n",
    "df = pd.read_csv(\"eu-pop-2017.csv\", index_col=['geo'])"
   ]
  },
  {
   "cell_type": "markdown",
   "metadata": {},
   "source": [
    "### Present first summary as text\n",
    "\n",
    "Raw data is imported:"
   ]
  },
  {
   "cell_type": "code",
   "execution_count": 28,
   "metadata": {},
   "outputs": [
    {
     "data": {
      "text/html": [
       "<div>\n",
       "<style scoped>\n",
       "    .dataframe tbody tr th:only-of-type {\n",
       "        vertical-align: middle;\n",
       "    }\n",
       "\n",
       "    .dataframe tbody tr th {\n",
       "        vertical-align: top;\n",
       "    }\n",
       "\n",
       "    .dataframe thead th {\n",
       "        text-align: right;\n",
       "    }\n",
       "</style>\n",
       "<table border=\"1\" class=\"dataframe\">\n",
       "  <thead>\n",
       "    <tr style=\"text-align: right;\">\n",
       "      <th></th>\n",
       "      <th>pop17</th>\n",
       "      <th>pop18</th>\n",
       "      <th>births</th>\n",
       "      <th>deaths</th>\n",
       "    </tr>\n",
       "    <tr>\n",
       "      <th>geo</th>\n",
       "      <th></th>\n",
       "      <th></th>\n",
       "      <th></th>\n",
       "      <th></th>\n",
       "    </tr>\n",
       "  </thead>\n",
       "  <tbody>\n",
       "    <tr>\n",
       "      <th>Belgium</th>\n",
       "      <td>11351727</td>\n",
       "      <td>11413058</td>\n",
       "      <td>119690</td>\n",
       "      <td>109666</td>\n",
       "    </tr>\n",
       "    <tr>\n",
       "      <th>Bulgaria</th>\n",
       "      <td>7101859</td>\n",
       "      <td>7050034</td>\n",
       "      <td>63955</td>\n",
       "      <td>109791</td>\n",
       "    </tr>\n",
       "    <tr>\n",
       "      <th>Czechia</th>\n",
       "      <td>10578820</td>\n",
       "      <td>10610055</td>\n",
       "      <td>114405</td>\n",
       "      <td>111443</td>\n",
       "    </tr>\n",
       "    <tr>\n",
       "      <th>Denmark</th>\n",
       "      <td>5748769</td>\n",
       "      <td>5781190</td>\n",
       "      <td>61397</td>\n",
       "      <td>53261</td>\n",
       "    </tr>\n",
       "    <tr>\n",
       "      <th>Germany</th>\n",
       "      <td>82521653</td>\n",
       "      <td>82850000</td>\n",
       "      <td>785000</td>\n",
       "      <td>933000</td>\n",
       "    </tr>\n",
       "    <tr>\n",
       "      <th>Estonia</th>\n",
       "      <td>1315634</td>\n",
       "      <td>1319133</td>\n",
       "      <td>13784</td>\n",
       "      <td>15543</td>\n",
       "    </tr>\n",
       "    <tr>\n",
       "      <th>Ireland</th>\n",
       "      <td>4784383</td>\n",
       "      <td>4838259</td>\n",
       "      <td>62084</td>\n",
       "      <td>30324</td>\n",
       "    </tr>\n",
       "    <tr>\n",
       "      <th>Greece</th>\n",
       "      <td>10768193</td>\n",
       "      <td>10738868</td>\n",
       "      <td>88523</td>\n",
       "      <td>124530</td>\n",
       "    </tr>\n",
       "    <tr>\n",
       "      <th>Spain</th>\n",
       "      <td>46527039</td>\n",
       "      <td>46659302</td>\n",
       "      <td>390024</td>\n",
       "      <td>421269</td>\n",
       "    </tr>\n",
       "    <tr>\n",
       "      <th>France</th>\n",
       "      <td>66989083</td>\n",
       "      <td>67221943</td>\n",
       "      <td>767691</td>\n",
       "      <td>603141</td>\n",
       "    </tr>\n",
       "    <tr>\n",
       "      <th>Croatia</th>\n",
       "      <td>4154212</td>\n",
       "      <td>4105493</td>\n",
       "      <td>36556</td>\n",
       "      <td>53477</td>\n",
       "    </tr>\n",
       "    <tr>\n",
       "      <th>Italy</th>\n",
       "      <td>60589445</td>\n",
       "      <td>60483973</td>\n",
       "      <td>458151</td>\n",
       "      <td>649061</td>\n",
       "    </tr>\n",
       "    <tr>\n",
       "      <th>Cyprus</th>\n",
       "      <td>854802</td>\n",
       "      <td>864236</td>\n",
       "      <td>9229</td>\n",
       "      <td>5997</td>\n",
       "    </tr>\n",
       "    <tr>\n",
       "      <th>Latvia</th>\n",
       "      <td>1950116</td>\n",
       "      <td>1934379</td>\n",
       "      <td>20828</td>\n",
       "      <td>28757</td>\n",
       "    </tr>\n",
       "    <tr>\n",
       "      <th>Lithuania</th>\n",
       "      <td>2847904</td>\n",
       "      <td>2808901</td>\n",
       "      <td>28696</td>\n",
       "      <td>40142</td>\n",
       "    </tr>\n",
       "    <tr>\n",
       "      <th>Luxembourg</th>\n",
       "      <td>590667</td>\n",
       "      <td>602005</td>\n",
       "      <td>6174</td>\n",
       "      <td>4263</td>\n",
       "    </tr>\n",
       "    <tr>\n",
       "      <th>Hungary</th>\n",
       "      <td>9797561</td>\n",
       "      <td>9778371</td>\n",
       "      <td>94646</td>\n",
       "      <td>131877</td>\n",
       "    </tr>\n",
       "    <tr>\n",
       "      <th>Malta</th>\n",
       "      <td>460297</td>\n",
       "      <td>475701</td>\n",
       "      <td>4319</td>\n",
       "      <td>3571</td>\n",
       "    </tr>\n",
       "    <tr>\n",
       "      <th>Netherlands</th>\n",
       "      <td>17081507</td>\n",
       "      <td>17181084</td>\n",
       "      <td>169200</td>\n",
       "      <td>150027</td>\n",
       "    </tr>\n",
       "    <tr>\n",
       "      <th>Austria</th>\n",
       "      <td>8772865</td>\n",
       "      <td>8822267</td>\n",
       "      <td>87633</td>\n",
       "      <td>83270</td>\n",
       "    </tr>\n",
       "    <tr>\n",
       "      <th>Poland</th>\n",
       "      <td>37972964</td>\n",
       "      <td>37976687</td>\n",
       "      <td>401982</td>\n",
       "      <td>402852</td>\n",
       "    </tr>\n",
       "    <tr>\n",
       "      <th>Portugal</th>\n",
       "      <td>10309573</td>\n",
       "      <td>10291027</td>\n",
       "      <td>86154</td>\n",
       "      <td>109586</td>\n",
       "    </tr>\n",
       "    <tr>\n",
       "      <th>Romania</th>\n",
       "      <td>19644350</td>\n",
       "      <td>19523621</td>\n",
       "      <td>189474</td>\n",
       "      <td>260599</td>\n",
       "    </tr>\n",
       "    <tr>\n",
       "      <th>Slovenia</th>\n",
       "      <td>2065895</td>\n",
       "      <td>2066880</td>\n",
       "      <td>20241</td>\n",
       "      <td>20509</td>\n",
       "    </tr>\n",
       "    <tr>\n",
       "      <th>Slovakia</th>\n",
       "      <td>5435343</td>\n",
       "      <td>5443120</td>\n",
       "      <td>57969</td>\n",
       "      <td>53914</td>\n",
       "    </tr>\n",
       "    <tr>\n",
       "      <th>Finland</th>\n",
       "      <td>5503297</td>\n",
       "      <td>5513130</td>\n",
       "      <td>50321</td>\n",
       "      <td>53722</td>\n",
       "    </tr>\n",
       "    <tr>\n",
       "      <th>Sweden</th>\n",
       "      <td>9995153</td>\n",
       "      <td>10120242</td>\n",
       "      <td>115416</td>\n",
       "      <td>91972</td>\n",
       "    </tr>\n",
       "    <tr>\n",
       "      <th>United Kingdom</th>\n",
       "      <td>65808573</td>\n",
       "      <td>66238007</td>\n",
       "      <td>755043</td>\n",
       "      <td>607172</td>\n",
       "    </tr>\n",
       "  </tbody>\n",
       "</table>\n",
       "</div>"
      ],
      "text/plain": [
       "                   pop17     pop18  births  deaths\n",
       "geo                                               \n",
       "Belgium         11351727  11413058  119690  109666\n",
       "Bulgaria         7101859   7050034   63955  109791\n",
       "Czechia         10578820  10610055  114405  111443\n",
       "Denmark          5748769   5781190   61397   53261\n",
       "Germany         82521653  82850000  785000  933000\n",
       "Estonia          1315634   1319133   13784   15543\n",
       "Ireland          4784383   4838259   62084   30324\n",
       "Greece          10768193  10738868   88523  124530\n",
       "Spain           46527039  46659302  390024  421269\n",
       "France          66989083  67221943  767691  603141\n",
       "Croatia          4154212   4105493   36556   53477\n",
       "Italy           60589445  60483973  458151  649061\n",
       "Cyprus            854802    864236    9229    5997\n",
       "Latvia           1950116   1934379   20828   28757\n",
       "Lithuania        2847904   2808901   28696   40142\n",
       "Luxembourg        590667    602005    6174    4263\n",
       "Hungary          9797561   9778371   94646  131877\n",
       "Malta             460297    475701    4319    3571\n",
       "Netherlands     17081507  17181084  169200  150027\n",
       "Austria          8772865   8822267   87633   83270\n",
       "Poland          37972964  37976687  401982  402852\n",
       "Portugal        10309573  10291027   86154  109586\n",
       "Romania         19644350  19523621  189474  260599\n",
       "Slovenia         2065895   2066880   20241   20509\n",
       "Slovakia         5435343   5443120   57969   53914\n",
       "Finland          5503297   5513130   50321   53722\n",
       "Sweden           9995153  10120242  115416   91972\n",
       "United Kingdom  65808573  66238007  755043  607172"
      ]
     },
     "execution_count": 28,
     "metadata": {},
     "output_type": "execute_result"
    }
   ],
   "source": [
    "df"
   ]
  },
  {
   "cell_type": "markdown",
   "metadata": {},
   "source": [
    "### Population in 28 EU countries as of 1 January 2017"
   ]
  },
  {
   "cell_type": "code",
   "execution_count": 34,
   "metadata": {},
   "outputs": [
    {
     "data": {
      "image/png": "[encoded data removed]",
      "text/plain": [
       "<Figure size 432x288 with 1 Axes>"
      ]
     },
     "metadata": {
      "needs_background": "light"
     },
     "output_type": "display_data"
    }
   ],
   "source": [
    "ax = df['pop17'].sort_values().plot(kind='bar')\n",
    "ax.set_title(\"Population 2017\");"
   ]
  },
  {
   "cell_type": "markdown",
   "metadata": {},
   "source": [
    "### Population in 28 EU countries as of 1 January 2018"
   ]
  },
  {
   "cell_type": "code",
   "execution_count": 45,
   "metadata": {},
   "outputs": [
    {
     "data": {
      "image/png": "[encoded data removed]",
      "text/plain": [
       "<Figure size 432x288 with 1 Axes>"
      ]
     },
     "metadata": {
      "needs_background": "light"
     },
     "output_type": "display_data"
    }
   ],
   "source": [
    "ax = df.sort_values(by='pop17')['pop18'].plot(kind='bar')\n",
    "ax.set_title(\"Population 2018\");"
   ]
  },
  {
   "cell_type": "markdown",
   "metadata": {},
   "source": [
    "### Population changes from 1/1/2017 to 1/1/2018 in 28 EU countries"
   ]
  },
  {
   "cell_type": "code",
   "execution_count": 50,
   "metadata": {},
   "outputs": [],
   "source": [
    "df['rel-change'] = (df['pop18'] - df['pop17']) /  (df['pop18'] + df['pop17']) * 100"
   ]
  },
  {
   "cell_type": "code",
   "execution_count": 51,
   "metadata": {},
   "outputs": [
    {
     "data": {
      "image/png": "[encoded data removed]",
      "text/plain": [
       "<Figure size 432x288 with 1 Axes>"
      ]
     },
     "metadata": {
      "needs_background": "light"
     },
     "output_type": "display_data"
    }
   ],
   "source": [
    "ax = df.sort_values(by='pop17')['rel-change'].plot(kind='bar')\n",
    "ax.set_ylabel(\"Relative change of population in 2017 (percentage)\");"
   ]
  },
  {
   "cell_type": "code",
   "execution_count": null,
   "metadata": {},
   "outputs": [],
   "source": []
  }
 ],
 "metadata": {
  "kernelspec": {
   "display_name": "Python 3",
   "language": "python",
   "name": "python3"
  },
  "language_info": {
   "codemirror_mode": {
    "name": "ipython",
    "version": 3
   },
   "file_extension": ".py",
   "mimetype": "text/x-python",
   "name": "python",
   "nbconvert_exporter": "python",
   "pygments_lexer": "ipython3",
   "version": "3.7.1"
  }
 },
 "nbformat": 4,
 "nbformat_minor": 2
}
